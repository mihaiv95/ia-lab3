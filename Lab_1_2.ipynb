{
  "cells": [
    {
      "cell_type": "markdown",
      "metadata": {
        "id": "zKmQoabRK_uJ",
        "toc": true
      },
      "source": [
        "<h1>Agenda<span class=\"tocSkip\"></span></h1>\n",
        "<div class=\"toc\"><ul class=\"toc-item\"><li><span><a href=\"#Prezentare\" data-toc-modified-id=\"Prezentare-1\"><span class=\"toc-item-num\">1&nbsp;&nbsp;</span>Prezentare</a></span><ul class=\"toc-item\"><li><span><a href=\"#About-me\" data-toc-modified-id=\"About-me-1.1\"><span class=\"toc-item-num\">1.1&nbsp;&nbsp;</span>About me</a></span></li><li><span><a href=\"#Motivation-/-Who-are-you?\" data-toc-modified-id=\"Motivation-/-Who-are-you?-1.2\"><span class=\"toc-item-num\">1.2&nbsp;&nbsp;</span>Motivation / Who are you?</a></span></li><li><span><a href=\"#Lab-Structure\" data-toc-modified-id=\"Lab-Structure-1.3\"><span class=\"toc-item-num\">1.3&nbsp;&nbsp;</span>Lab Structure</a></span><ul class=\"toc-item\"><li><span><a href=\"#Generics\" data-toc-modified-id=\"Generics-1.3.1\"><span class=\"toc-item-num\">1.3.1&nbsp;&nbsp;</span>Generics</a></span></li><li><span><a href=\"#What-do-you-know-about-ML?\" data-toc-modified-id=\"What-do-you-know-about-ML?-1.3.2\"><span class=\"toc-item-num\">1.3.2&nbsp;&nbsp;</span>What do you know about ML?</a></span></li><li><span><a href=\"#Ce-vom-invata?\" data-toc-modified-id=\"Ce-vom-invata?-1.3.3\"><span class=\"toc-item-num\">1.3.3&nbsp;&nbsp;</span>Ce vom invata?</a></span></li></ul></li></ul></li><li><span><a href=\"#Jupyter-notebook-tutorial\" data-toc-modified-id=\"Jupyter-notebook-tutorial-2\"><span class=\"toc-item-num\">2&nbsp;&nbsp;</span>Jupyter notebook tutorial</a></span></li><li><span><a href=\"#Python\" data-toc-modified-id=\"Python-3\"><span class=\"toc-item-num\">3&nbsp;&nbsp;</span>Python</a></span></li><li><span><a href=\"#Numpy\" data-toc-modified-id=\"Numpy-4\"><span class=\"toc-item-num\">4&nbsp;&nbsp;</span>Numpy</a></span></li><li><span><a href=\"#Linear-model\" data-toc-modified-id=\"Linear-model-5\"><span class=\"toc-item-num\">5&nbsp;&nbsp;</span>Linear model</a></span></li><li><span><a href=\"#Teme-pentru-acasa\" data-toc-modified-id=\"Teme-pentru-acasa-6\"><span class=\"toc-item-num\">6&nbsp;&nbsp;</span>Teme pentru acasa</a></span><ul class=\"toc-item\"><li><span><a href=\"#Install-the-workspace.zip-locally\" data-toc-modified-id=\"Install-the-workspace.zip-locally-6.1\"><span class=\"toc-item-num\">6.1&nbsp;&nbsp;</span>Install the workspace.zip locally</a></span><ul class=\"toc-item\"><li><span><a href=\"#Machine-Learning-Lab-workspace\" data-toc-modified-id=\"Machine-Learning-Lab-workspace-6.1.1\"><span class=\"toc-item-num\">6.1.1&nbsp;&nbsp;</span>Machine Learning Lab workspace</a></span></li><li><span><a href=\"#Installation-of-this-project\" data-toc-modified-id=\"Installation-of-this-project-6.1.2\"><span class=\"toc-item-num\">6.1.2&nbsp;&nbsp;</span>Installation of this project</a></span></li></ul></li><li><span><a href=\"#Cititi-sectiunile-despre-Python-and-Numpy\" data-toc-modified-id=\"Cititi-sectiunile-despre-Python-and-Numpy-6.2\"><span class=\"toc-item-num\">6.2&nbsp;&nbsp;</span>Read the sections about Python, Numpy and Linear models</a></span></li><li><span><a href=\"#Creati-o-copie-a-acestui-laboratorrator-si-asigurati-va-toate-comenzile-functioneaza-si-intelegeti-ce-fac\" data-toc-modified-id=\"Creati-o-copie-a-acestui-laborator-si-asigurati-va-ca-toate-comenzile-functioneaza-si-intelegeti-ce-fac-6.3\"><span class=\"toc-item-num\">6.3&nbsp;&nbsp;</span>Creati o copie a acestui laborator si asigurati-va ca toate comenzile functioneaza si intelegeti ce fac</a></span></li><li><span><a href=\"#Scrieti-o-clasa-Python-Point-pentru-reprezentarea-unui-punct-3D.\" data-toc-modified-id=\"Scrieti-o-clasa-Python-Point-pentru-reprezentarea-unui-punct-3D.-6.4\"><span class=\"toc-item-num\">6.4&nbsp;&nbsp;</span>Scrieti o clasa Python <code>Point</code> pentru reprezentarea unui punct 3D.</a></span></li><li><span><a href=\"#Rezolvati-cu-o-singura-comanda-urmatoarele-probleme-de-Numpy\" data-toc-modified-id=\"Rezolvati-cu-o-singura-comanda-urmatoarele-probleme-de-Numpy-6.5\"><span class=\"toc-item-num\">6.5&nbsp;&nbsp;</span>Rezolvati cu o singura comanda urmatoarele probleme de Numpy</a></span></li><li><span><a href=\"#Ce-reprezinta-numpy-broadcasting,-dati-exemple\" data-toc-modified-id=\"Ce-reprezinta-numpy-broadcasting,-dati-exemple-6.6\"><span class=\"toc-item-num\">6.6&nbsp;&nbsp;</span>Ce reprezinta numpy broadcasting, dati exemple</a></span></li></ul></li><li><span><a href=\"#Resurse\" data-toc-modified-id=\"Resurse-7\"><span class=\"toc-item-num\">7&nbsp;&nbsp;</span>Resurse</a></span></li></ul></div>"
      ]
    },
    {
      "cell_type": "markdown",
      "metadata": {
        "id": "Flp_dTTAK_uV"
      },
      "source": [
        "### What do you know about ML?"
      ]
    },
    {
      "cell_type": "markdown",
      "metadata": {
        "id": "b9OzIGggK_uW"
      },
      "source": [
        "Stiu, voi amesteca pe alocuri engleza cu romana, deal with it!"
      ]
    },
    {
      "cell_type": "markdown",
      "metadata": {
        "id": "oS2kCDUUK_uX"
      },
      "source": [
        "### Ce vom invata?"
      ]
    },
    {
      "cell_type": "markdown",
      "metadata": {
        "id": "7sE2gGKMK_uY"
      },
      "source": [
        "* Lab 1 - Basics: Python, Anaconda\n",
        "* Lab 2 - Noțiuni matematice necesare: Numpy. Algebra liniară pentru învăţarea în automată. Statistică pentru învăţarea automată. Aplicaţii: 100_Numpy_exercises. (2h)\n",
        "* Lab 3 - Învățarea supervizată: Scikit-learn: Linear regression, Logistical Regression, Vectorization methods, Pipelines. Vedere de ansamblu a algoritmilor de învăţare automată. Aplicaţii: evolutia preturilor caselor din Alba-Iulia. (2h)\n",
        "* Lab 4 - Evaluarea modelelor. Keras & TensorFlow. Aplicaţii: vertebral_column_data or rossmann-store-sales datasets. (2h)\n",
        "* Lab 5-6 - Metode de clasificare - Arbori de decizie (Decision Trees). Aplicaţii: RandomForests. Entropy model: MNIST classification or Iris dataset (4h)\n",
        "* Lab 7 - Metode de clasificare – Învăţarea bazată pe instanţe. Metoda celor mai apropiaţi k vecini: KNN and NaiveBayes classifiers. (2h)\n",
        "* Lab 8 - Învățarea în rețele neuronale: Neural Networks (MLP), Backpropagation, Stochastical Gradient Descent, RNN's. Aplicaţii: Convolutions on MNIST (2h)\n",
        "* Lab 9 - Maşini cu suport vectorial SVM's. Aplicaţii. (2h)\n",
        "* Lab 10 - Învățarea nesupervizată. Metode de clusterizare. Aplicaţii: Iris dataset (2h)\n",
        "* Lab 11 - Tehnici folosite pentru prelucrarea imaginilor.\n",
        "Image processing: Vgg16, Cat vs. Dog, Kaggle, BatchNormalisation, ReLU, MaxPooling, .., Best practices: cifar-10-python dataset. (2h)\n",
        "* Lab 12 - Evaluarea activității de laborator. (2h)\n",
        "..\n",
        "\n",
        "* laboratorul X - Capsules tool, Attention, GAN's, generative models"
      ]
    },
    {
      "cell_type": "markdown",
      "metadata": {
        "id": "bix5cRwyK_uZ"
      },
      "source": [
        "Might change, if is to fast or irelevant"
      ]
    },
    {
      "cell_type": "markdown",
      "metadata": {
        "ExecuteTime": {
          "end_time": "2018-02-28T03:05:01.973101Z",
          "start_time": "2018-02-28T03:05:01.970641Z"
        },
        "id": "mmlCCxOfK_ua"
      },
      "source": [
        "# Jupyter notebook tutorial"
      ]
    },
    {
      "cell_type": "markdown",
      "metadata": {
        "ExecuteTime": {
          "end_time": "2018-02-28T03:05:35.043596Z",
          "start_time": "2018-02-28T03:05:35.032941Z"
        },
        "id": "8OmiHrOyK_u5"
      },
      "source": [
        "Ce folosesc acum se numeste *Jupyer*\n",
        "    * un *IDE* online pentru Python\n",
        "    * folosit pentru explorare, prototyping si data-science\n",
        "\n",
        "Mod de folosire:\n",
        "    * jurnal academic\n",
        "        * reproducible\n",
        "        * add only\n",
        "        * comments\n",
        "        * experiments\n",
        "    * celule\n",
        "        * 2 moduri: Y - cod, M - text\n",
        "        * text - Markdown (LaTeX)\n",
        "        * cod - python"
      ]
    },
    {
      "cell_type": "markdown",
      "metadata": {
        "id": "KQXZe8onK_u6"
      },
      "source": [
        "I want to print some Latex formulas:\n",
        "\n",
        "$$\\sum_i(100)$$"
      ]
    },
    {
      "cell_type": "markdown",
      "metadata": {
        "id": "BOpGxPwMK_u7"
      },
      "source": [
        "Let's see if I can write code here"
      ]
    },
    {
      "cell_type": "code",
      "execution_count": null,
      "metadata": {
        "ExecuteTime": {
          "end_time": "2019-02-15T17:44:56.893383Z",
          "start_time": "2019-02-15T17:44:56.886964Z"
        },
        "colab": {
          "base_uri": "https://localhost:8080/"
        },
        "id": "lnVpc6VFK_u8",
        "outputId": "eb442028-3f75-4573-91f8-88c514d45ce8"
      },
      "outputs": [],
      "source": [
        "import time\n",
        "time.time()"
      ]
    },
    {
      "cell_type": "markdown",
      "metadata": {
        "id": "CMeoHnsMK_vA"
      },
      "source": [
        "I don't like so many decimal places...\n",
        "\n",
        "I will round"
      ]
    },
    {
      "cell_type": "code",
      "execution_count": null,
      "metadata": {
        "ExecuteTime": {
          "end_time": "2019-02-15T17:45:32.612985Z",
          "start_time": "2019-02-15T17:45:32.607858Z"
        },
        "colab": {
          "base_uri": "https://localhost:8080/"
        },
        "id": "C11WlXqhK_vB",
        "outputId": "8cf3bf7d-b81e-4fdf-9e27-d711a49f0514"
      },
      "outputs": [],
      "source": [
        "import numpy as np\n",
        "np.round(time.time(), 3)"
      ]
    },
    {
      "cell_type": "markdown",
      "metadata": {
        "id": "x6T0LL2DK_vB"
      },
      "source": [
        "Much better!"
      ]
    },
    {
      "cell_type": "markdown",
      "metadata": {
        "id": "5VAG0s9cK_vC"
      },
      "source": [
        "Experiment if the code allways refletcts the output"
      ]
    },
    {
      "cell_type": "code",
      "execution_count": null,
      "metadata": {
        "ExecuteTime": {
          "end_time": "2019-02-15T17:57:17.254015Z",
          "start_time": "2019-02-15T17:57:17.248766Z"
        },
        "colab": {
          "base_uri": "https://localhost:8080/",
          "height": 36
        },
        "id": "UbdTaw1HK_vC",
        "outputId": "dd016c55-9581-48d3-f37c-c6d0bafe9f49"
      },
      "outputs": [],
      "source": [
        "from random import randint\n",
        "string = \"this is a text\"\n",
        "string"
      ]
    },
    {
      "cell_type": "markdown",
      "metadata": {
        "id": "oDGLlggJK_vD"
      },
      "source": [
        "I want to demonstrate that expressions without outputs do not print anything even if they are the last command in a cell."
      ]
    },
    {
      "cell_type": "code",
      "execution_count": 5,
      "metadata": {
        "ExecuteTime": {
          "end_time": "2019-02-16T10:21:01.991634Z",
          "start_time": "2019-02-16T10:21:01.988504Z"
        },
        "id": "td2knhI8K_vD"
      },
      "outputs": [],
      "source": [
        "string = \"my_text\""
      ]
    },
    {
      "cell_type": "markdown",
      "metadata": {
        "id": "Qo7EfTaFK_vE"
      },
      "source": [
        "The last command is displayed using an internal `display` function that, depending on the output type renders is differently (for plots it draws, for strings it prints, for animations it plays, for tables it draws a table, etc..)"
      ]
    },
    {
      "cell_type": "code",
      "execution_count": null,
      "metadata": {
        "ExecuteTime": {
          "end_time": "2019-02-15T18:01:48.504883Z",
          "start_time": "2019-02-15T18:01:48.500524Z"
        },
        "colab": {
          "base_uri": "https://localhost:8080/",
          "height": 35
        },
        "id": "RwIFQ4MiK_vE",
        "outputId": "9280eb55-5c67-458b-c24f-180688cbe37c"
      },
      "outputs": [],
      "source": [
        "from IPython.display import display\n",
        "display(time.time())"
      ]
    },
    {
      "cell_type": "markdown",
      "metadata": {
        "id": "Vv0jp4p6K_vF"
      },
      "source": [
        "Test that we need print if we want to debug a nested code. In order to inspect the contents of \"string\" we must issue a print statement."
      ]
    },
    {
      "cell_type": "code",
      "execution_count": null,
      "metadata": {
        "ExecuteTime": {
          "end_time": "2019-02-15T00:43:44.956963Z",
          "start_time": "2019-02-15T00:43:44.952030Z"
        },
        "colab": {
          "base_uri": "https://localhost:8080/"
        },
        "id": "Am__k-lQK_vF",
        "outputId": "0df2642e-5280-48a1-ea4e-2670e332bced"
      },
      "outputs": [],
      "source": [
        "string = \"something else\"\n",
        "print(string)\n",
        "other_var = string"
      ]
    },
    {
      "cell_type": "markdown",
      "metadata": {
        "id": "U7Gi1_npK_vF"
      },
      "source": [
        "Do we keep the variables context on refresh? Press F5! If we loose the context (i.e. the whole jupyter program is restarted), we expect that `other_var` will not contain any value when executing the code bellow."
      ]
    },
    {
      "cell_type": "code",
      "execution_count": null,
      "metadata": {
        "ExecuteTime": {
          "end_time": "2019-02-15T00:43:47.006755Z",
          "start_time": "2019-02-15T00:43:47.002034Z"
        },
        "colab": {
          "base_uri": "https://localhost:8080/",
          "height": 36
        },
        "id": "GUw8l9p7K_vG",
        "outputId": "cd12a4b9-9902-4e34-9ee7-3d40bcd81637"
      },
      "outputs": [],
      "source": [
        "other_var"
      ]
    },
    {
      "cell_type": "markdown",
      "metadata": {
        "id": "pwHOhzb0K_vG"
      },
      "source": [
        "Since after the page refresh, `other_var` still holds the proper value, we conclude that the session is persisted between refresh. This is called a **kernel** (a python session that is kept active on the server and which retains all the current variables and state).  "
      ]
    },
    {
      "cell_type": "markdown",
      "metadata": {
        "id": "EwvYr5ekK_vG"
      },
      "source": [
        "Restarting a kernel: 00"
      ]
    },
    {
      "cell_type": "markdown",
      "metadata": {
        "id": "34b0xcTOK_vH"
      },
      "source": [
        "Press 'H' for help"
      ]
    },
    {
      "cell_type": "markdown",
      "metadata": {
        "id": "dpWY4pwJK_vH"
      },
      "source": [
        "# Python"
      ]
    },
    {
      "cell_type": "markdown",
      "metadata": {
        "id": "5jQe-LKxK_vH"
      },
      "source": [
        "Homework: read [xkcd](http://www.xkcd.com)"
      ]
    },
    {
      "cell_type": "markdown",
      "metadata": {
        "id": "O-0KmzvGK_vH"
      },
      "source": [
        "* Limbaj interpretat\n",
        "* Wrapper peste C++\n",
        "* OOP / functional"
      ]
    },
    {
      "cell_type": "markdown",
      "metadata": {
        "id": "nw18a2jBK_vI"
      },
      "source": [
        "![Python](https://imgs.xkcd.com/comics/python.png)"
      ]
    },
    {
      "cell_type": "markdown",
      "metadata": {
        "id": "AaolkP75K_vI"
      },
      "source": [
        "Like really?"
      ]
    },
    {
      "cell_type": "code",
      "execution_count": null,
      "metadata": {
        "ExecuteTime": {
          "end_time": "2019-02-15T00:44:08.256803Z",
          "start_time": "2019-02-15T00:44:08.252535Z"
        },
        "colab": {
          "base_uri": "https://localhost:8080/"
        },
        "id": "oVSZbXcDK_vI",
        "outputId": "70fd3b65-4306-4033-d691-55deaf61e788"
      },
      "outputs": [],
      "source": [
        "print(\"Hello world!\")"
      ]
    },
    {
      "cell_type": "markdown",
      "metadata": {
        "id": "ynqk7vBOK_vI"
      },
      "source": [
        "Well, nu poate fi chiar totul adevarat"
      ]
    },
    {
      "cell_type": "code",
      "execution_count": 47,
      "metadata": {
        "ExecuteTime": {
          "end_time": "2019-02-15T18:09:48.493232Z",
          "start_time": "2019-02-15T18:09:48.487363Z"
        },
        "id": "THJLgaxMK_vJ"
      },
      "outputs": [],
      "source": [
        "import antigravity"
      ]
    },
    {
      "cell_type": "code",
      "execution_count": null,
      "metadata": {
        "ExecuteTime": {
          "end_time": "2019-02-15T18:10:50.976410Z",
          "start_time": "2019-02-15T18:10:50.918851Z"
        },
        "id": "orW8BLPEK_vJ"
      },
      "outputs": [],
      "source": [
        "antigravity.geohash??"
      ]
    },
    {
      "cell_type": "markdown",
      "metadata": {
        "id": "GMZzHZ46K_vJ"
      },
      "source": [
        "Ba da, exista un modul numit \"antigravity\". Wtf is this??"
      ]
    },
    {
      "cell_type": "markdown",
      "metadata": {
        "ExecuteTime": {
          "end_time": "2018-02-28T03:07:43.148450Z",
          "start_time": "2018-02-28T03:07:43.145204Z"
        },
        "id": "LjmzjyWtK_vJ"
      },
      "source": [
        "Defining a function"
      ]
    },
    {
      "cell_type": "code",
      "execution_count": 49,
      "metadata": {
        "ExecuteTime": {
          "end_time": "2019-02-15T00:44:23.736305Z",
          "start_time": "2019-02-15T00:44:23.732962Z"
        },
        "id": "nbQ-sEz8K_vK"
      },
      "outputs": [],
      "source": [
        "def function(a, b):\n",
        "    \"\"\"\n",
        "    This is a docstring of a function that does nothing\n",
        "    \"\"\"\n",
        "    pass"
      ]
    },
    {
      "cell_type": "markdown",
      "metadata": {
        "id": "dnpcDbiGK_vK"
      },
      "source": [
        "Write a function that multiplies three numbers together.."
      ]
    },
    {
      "cell_type": "code",
      "execution_count": 13,
      "metadata": {
        "ExecuteTime": {
          "end_time": "2019-02-20T19:44:51.651934Z",
          "start_time": "2019-02-20T19:44:51.647211Z"
        },
        "id": "62jvLRjvK_vK"
      },
      "outputs": [],
      "source": [
        "def multiply_three_numbers(a, b, c):\n",
        "    return a * b * c"
      ]
    },
    {
      "cell_type": "code",
      "execution_count": null,
      "metadata": {
        "ExecuteTime": {
          "end_time": "2019-02-20T19:44:52.365326Z",
          "start_time": "2019-02-20T19:44:52.347309Z"
        },
        "colab": {
          "base_uri": "https://localhost:8080/"
        },
        "id": "s-vMH9bQK_vL",
        "outputId": "9501c68b-0435-440b-9ce8-ddee1400c3c3"
      },
      "outputs": [],
      "source": [
        "multiply_three_numbers(1, 2, 3)"
      ]
    },
    {
      "cell_type": "markdown",
      "metadata": {
        "id": "5SaSQampK_vL"
      },
      "source": [
        "We don't have types.. Actually we have \"duck typing\"... (`if it quacks like a duck and walks like a duck, then it's most likely a duck.`)"
      ]
    },
    {
      "cell_type": "code",
      "execution_count": null,
      "metadata": {
        "ExecuteTime": {
          "end_time": "2019-02-20T19:45:35.453673Z",
          "start_time": "2019-02-20T19:45:35.447119Z"
        },
        "colab": {
          "base_uri": "https://localhost:8080/"
        },
        "id": "neZ8ovtIK_vM",
        "outputId": "31b11810-4e3b-4dca-ffa3-21b7f561351d"
      },
      "outputs": [],
      "source": [
        "type(\"a\")"
      ]
    },
    {
      "cell_type": "code",
      "execution_count": 54,
      "metadata": {
        "ExecuteTime": {
          "end_time": "2019-02-15T00:44:35.916388Z",
          "start_time": "2019-02-15T00:44:35.912037Z"
        },
        "id": "V0iJVGpsK_vM"
      },
      "outputs": [],
      "source": [
        "def f(something): # could be anything here, we'll only find out at run time\n",
        "    if isinstance(something, str):\n",
        "        print(ord(something[0]) + 1)\n",
        "    else:\n",
        "        var = 10\n",
        "    var_b = 12\n",
        "    return something"
      ]
    },
    {
      "cell_type": "markdown",
      "metadata": {
        "id": "dT6Aqv9UK_vM"
      },
      "source": [
        "We can pass any values to `f`. It's unsafe, but `we're all grownups here`"
      ]
    },
    {
      "cell_type": "code",
      "execution_count": 61,
      "metadata": {
        "ExecuteTime": {
          "end_time": "2019-02-15T00:44:37.488180Z",
          "start_time": "2019-02-15T00:44:37.482193Z"
        },
        "colab": {
          "base_uri": "https://localhost:8080/"
        },
        "id": "DEllWxUuK_vN",
        "outputId": "329d83bc-a087-4f45-e1ea-8d5508e8ec3e"
      },
      "outputs": [
        {
          "name": "stdout",
          "output_type": "stream",
          "text": [
            "98\n"
          ]
        },
        {
          "data": {
            "text/plain": [
              "(1, 'a', None)"
            ]
          },
          "execution_count": 61,
          "metadata": {},
          "output_type": "execute_result"
        }
      ],
      "source": [
        "f(1), f('a'), f(None)"
      ]
    },
    {
      "cell_type": "markdown",
      "metadata": {
        "id": "5ZZBhl0jK_vN"
      },
      "source": [
        "Handling exceptions"
      ]
    },
    {
      "cell_type": "code",
      "execution_count": 63,
      "metadata": {
        "ExecuteTime": {
          "end_time": "2019-02-15T00:44:39.557127Z",
          "start_time": "2019-02-15T00:44:39.553273Z"
        },
        "colab": {
          "base_uri": "https://localhost:8080/"
        },
        "id": "20YRpg2XK_vO",
        "outputId": "63179f99-f274-472b-8b8c-c18547abcde7"
      },
      "outputs": [
        {
          "name": "stdout",
          "output_type": "stream",
          "text": [
            "Traceback (most recent call last):\n",
            "  File \"/var/folders/jw/yv3564gd34d57pv9_nmtf3540000gn/T/ipykernel_40707/1712284350.py\", line 4, in <module>\n",
            "    raise AssertionError(\"Trigger and exception\")\n",
            "AssertionError: Trigger and exception\n",
            "\n"
          ]
        }
      ],
      "source": [
        "import traceback\n",
        "try:\n",
        "    a = \"This is a useless line\"\n",
        "    raise AssertionError(\"Trigger and exception\")\n",
        "except AssertionError:\n",
        "    print(traceback.format_exc())"
      ]
    },
    {
      "cell_type": "markdown",
      "metadata": {
        "id": "j_oidrXpK_vO"
      },
      "source": [
        "Classes and OOP"
      ]
    },
    {
      "cell_type": "code",
      "execution_count": null,
      "metadata": {
        "ExecuteTime": {
          "end_time": "2019-02-21T14:53:45.261861Z",
          "start_time": "2019-02-21T14:53:45.159756Z"
        },
        "colab": {
          "base_uri": "https://localhost:8080/"
        },
        "id": "WGeuwnptK_vO",
        "outputId": "1e38c301-4eed-4c70-b169-c0f534d5db69"
      },
      "outputs": [],
      "source": [
        "class Complex(object):\n",
        "    def __init__(self, real, imag):\n",
        "        self._real = real\n",
        "        self._imag = imag\n",
        "\n",
        "    def add(self, another_complex_number):\n",
        "        self._real += another_complex_number._real\n",
        "        self._imag += another_complex_number._imag\n",
        "        return self\n",
        "\n",
        "a = Complex(1, 1)\n",
        "b = Complex(1, 2)\n",
        "a.add(b)._imag"
      ]
    },
    {
      "cell_type": "markdown",
      "metadata": {
        "id": "9rLcCaO2K_vP"
      },
      "source": [
        "* Notice the \"self\" stuff\n",
        "* The last command of a cell is always displayed\n",
        "* Notice we don't have the notion of \"private\" fields (they're all public)"
      ]
    },
    {
      "cell_type": "markdown",
      "metadata": {
        "id": "A-O77do2K_vP"
      },
      "source": [
        "Variable inspector.. (check out the target button - circle with 4 lines - in the above toolbar)"
      ]
    },
    {
      "cell_type": "code",
      "execution_count": 20,
      "metadata": {
        "ExecuteTime": {
          "end_time": "2019-02-15T18:49:34.775428Z",
          "start_time": "2019-02-15T18:49:34.772461Z"
        },
        "id": "zAAKFrIIK_vP"
      },
      "outputs": [],
      "source": [
        "c = b"
      ]
    },
    {
      "cell_type": "markdown",
      "metadata": {
        "id": "PaMpJFTSK_vQ"
      },
      "source": [
        "Example of `list comprehension` (defining a list by enumerating the elements with an embedded `for` loop)\n",
        "\n",
        "\n",
        "`range` produces 1 to 10 elements, going 2 by 2, a range of numbers."
      ]
    },
    {
      "cell_type": "code",
      "execution_count": null,
      "metadata": {
        "ExecuteTime": {
          "end_time": "2019-02-20T19:51:49.661931Z",
          "start_time": "2019-02-20T19:51:49.651175Z"
        },
        "colab": {
          "base_uri": "https://localhost:8080/"
        },
        "id": "x92vLylHK_vQ",
        "outputId": "ac44b178-e14e-448c-c46d-dbf85faf37ac"
      },
      "outputs": [],
      "source": [
        "a_list = [i for i in range(1, 10, 2)]\n",
        "a_list"
      ]
    },
    {
      "cell_type": "markdown",
      "metadata": {
        "id": "ddwxKsilK_vQ"
      },
      "source": [
        "Bellow you can see an example of a `dictionary comprehension`"
      ]
    },
    {
      "cell_type": "code",
      "execution_count": null,
      "metadata": {
        "ExecuteTime": {
          "end_time": "2019-02-20T19:50:02.154847Z",
          "start_time": "2019-02-20T19:50:02.147175Z"
        },
        "colab": {
          "base_uri": "https://localhost:8080/"
        },
        "id": "4LkAco7iK_vR",
        "outputId": "2e59e2f4-0985-4935-e943-22e9fd362cfe"
      },
      "outputs": [],
      "source": [
        "{i:i+10 for i in range(10) }"
      ]
    },
    {
      "cell_type": "markdown",
      "metadata": {
        "id": "OppTOmO2K_vR"
      },
      "source": [
        "`Set comprehension` example. Notice that unlike on dictionaries (above) we don't have the form `key: value` at the begging. It's just `i`.\n",
        "\n",
        "Sets don't have order and only store `unique` elements."
      ]
    },
    {
      "cell_type": "code",
      "execution_count": null,
      "metadata": {
        "ExecuteTime": {
          "end_time": "2019-02-15T00:45:02.438507Z",
          "start_time": "2019-02-15T00:45:02.433234Z"
        },
        "colab": {
          "base_uri": "https://localhost:8080/"
        },
        "id": "oQchVu4YK_vR",
        "outputId": "c8204a3c-becc-4a94-967a-83ee50ad4f2b"
      },
      "outputs": [],
      "source": [
        "{i for i in range(10)}"
      ]
    },
    {
      "cell_type": "markdown",
      "metadata": {
        "id": "WqgKian5K_vR"
      },
      "source": [
        "Reversing a list is done with (the rather obscure) form `[::-1]`"
      ]
    },
    {
      "cell_type": "code",
      "execution_count": null,
      "metadata": {
        "ExecuteTime": {
          "end_time": "2019-02-20T19:52:35.081333Z",
          "start_time": "2019-02-20T19:52:35.075275Z"
        },
        "colab": {
          "base_uri": "https://localhost:8080/"
        },
        "id": "DXCeDz-KK_vS",
        "outputId": "a6da1e69-26c8-4534-bc12-f3c457fadc98"
      },
      "outputs": [],
      "source": [
        "a_reversed = a_list[::-1]\n",
        "a_reversed"
      ]
    },
    {
      "cell_type": "markdown",
      "metadata": {
        "id": "xeQK711BK_vS"
      },
      "source": [
        "If we say `[0:4]` it means we want all the elements between 0 and 4. This is called a `slice`"
      ]
    },
    {
      "cell_type": "code",
      "execution_count": null,
      "metadata": {
        "ExecuteTime": {
          "end_time": "2019-02-20T19:53:20.353035Z",
          "start_time": "2019-02-20T19:53:20.347051Z"
        },
        "colab": {
          "base_uri": "https://localhost:8080/"
        },
        "id": "En-CE2r9K_vS",
        "outputId": "aacf927f-a6cf-4844-9433-be77e9793d3a"
      },
      "outputs": [],
      "source": [
        "a_split = a_list[0:4]\n",
        "a_split"
      ]
    },
    {
      "cell_type": "markdown",
      "metadata": {
        "id": "MldSR4iYK_vT"
      },
      "source": [
        "Negative indexed go back, as if the list were circular. `L[-2]` means the `second to last` element."
      ]
    },
    {
      "cell_type": "code",
      "execution_count": null,
      "metadata": {
        "ExecuteTime": {
          "end_time": "2019-02-20T19:53:58.953161Z",
          "start_time": "2019-02-20T19:53:58.946965Z"
        },
        "colab": {
          "base_uri": "https://localhost:8080/"
        },
        "id": "XJLLN1g4K_vT",
        "outputId": "5e2e3074-2782-4271-ee30-398aa35c53c1"
      },
      "outputs": [],
      "source": [
        "a_list[-2]"
      ]
    },
    {
      "cell_type": "code",
      "execution_count": null,
      "metadata": {
        "ExecuteTime": {
          "end_time": "2019-02-20T19:56:15.577290Z",
          "start_time": "2019-02-20T19:56:15.567718Z"
        },
        "colab": {
          "base_uri": "https://localhost:8080/"
        },
        "id": "NDug6yBPK_vT",
        "outputId": "ada3295f-2283-47c6-c412-f529fa9d1f36"
      },
      "outputs": [],
      "source": [
        "import random\n",
        "r = [random.randint(0, 10) for _ in range(10)]\n",
        "r"
      ]
    },
    {
      "cell_type": "code",
      "execution_count": null,
      "metadata": {
        "ExecuteTime": {
          "end_time": "2019-02-20T19:56:17.554257Z",
          "start_time": "2019-02-20T19:56:17.547855Z"
        },
        "colab": {
          "base_uri": "https://localhost:8080/"
        },
        "id": "PuzuvUQeK_vU",
        "outputId": "47081fcf-6905-4666-c3c5-59d43cf6ce7c"
      },
      "outputs": [],
      "source": [
        "sorted(r)"
      ]
    },
    {
      "cell_type": "code",
      "execution_count": null,
      "metadata": {
        "ExecuteTime": {
          "end_time": "2019-02-15T00:45:14.317557Z",
          "start_time": "2019-02-15T00:45:14.312752Z"
        },
        "colab": {
          "base_uri": "https://localhost:8080/"
        },
        "id": "kKsZW-XmK_vU",
        "outputId": "b8c438a0-0b22-4d76-aac4-f1104bb6653d"
      },
      "outputs": [],
      "source": [
        "m = dict()\n",
        "n = {} # same stuff\n",
        "\n",
        "type(m), type(n)"
      ]
    },
    {
      "cell_type": "code",
      "execution_count": null,
      "metadata": {
        "ExecuteTime": {
          "end_time": "2019-02-15T00:45:15.428311Z",
          "start_time": "2019-02-15T00:45:15.423594Z"
        },
        "colab": {
          "base_uri": "https://localhost:8080/"
        },
        "id": "sItWAqvPK_vU",
        "outputId": "a0647c3a-ca57-4613-a537-ce761c3c5d9a"
      },
      "outputs": [],
      "source": [
        "m['a'] = 1\n",
        "m[4] = 'b'\n",
        "\n",
        "m"
      ]
    },
    {
      "cell_type": "markdown",
      "metadata": {
        "id": "EpUfdv-fK_vV"
      },
      "source": [
        "Dictionarele nu trebuie fie omogene in tipul de informatie pe care il retin"
      ]
    },
    {
      "cell_type": "code",
      "execution_count": 64,
      "metadata": {
        "ExecuteTime": {
          "end_time": "2019-02-15T00:45:17.777643Z",
          "start_time": "2019-02-15T00:45:17.773316Z"
        },
        "colab": {
          "base_uri": "https://localhost:8080/"
        },
        "id": "1n-zVqgUK_vV",
        "outputId": "d1ebb013-b659-45ca-b285-5744793b5c72"
      },
      "outputs": [
        {
          "data": {
            "text/plain": [
              "{'a': 1,\n",
              " 4: 'b',\n",
              " <module 'random' from '/Users/mihai/faculta/IA/projects/ia-lab3/env/lib/python3.13/random.py'>: <function __main__.f(something)>}"
            ]
          },
          "execution_count": 64,
          "metadata": {},
          "output_type": "execute_result"
        }
      ],
      "source": [
        "m[random] = f\n",
        "m"
      ]
    },
    {
      "cell_type": "markdown",
      "metadata": {
        "id": "1SmczQQnK_vV"
      },
      "source": [
        "Cool? Not quite, don't get to fancy with this."
      ]
    },
    {
      "cell_type": "markdown",
      "metadata": {
        "id": "zvSM0CVFK_vW"
      },
      "source": [
        "# Numpy"
      ]
    },
    {
      "cell_type": "markdown",
      "metadata": {
        "id": "9yQ1HtyzK_vW"
      },
      "source": [
        "NumPy este pachetul fundamental necesar pentru calculul științific cu Python"
      ]
    },
    {
      "cell_type": "markdown",
      "metadata": {
        "id": "Kcq4wTQfK_vW"
      },
      "source": [
        "   * un puternic N-dimensional array object\n",
        "   * funcții sofisticate (broadcasting)\n",
        "   * funcții de algebră liniară de bază\n",
        "   * transformate Fourier de bază\n",
        "   * capabilități sofisticate de numere aleatoare\n",
        "   * instrumente pentru integrarea codului Fortran\n",
        "   * instrumente pentru integrarea codului C/C++"
      ]
    },
    {
      "cell_type": "markdown",
      "metadata": {
        "id": "XhqLWwENK_vW"
      },
      "source": [
        "[Numpy](https://docs.scipy.org/doc/numpy/about.html)"
      ]
    },
    {
      "cell_type": "code",
      "execution_count": 32,
      "metadata": {
        "ExecuteTime": {
          "end_time": "2019-02-15T00:45:20.846276Z",
          "start_time": "2019-02-15T00:45:20.843206Z"
        },
        "id": "3LPmeeN7K_vX"
      },
      "outputs": [],
      "source": [
        "import numpy as np"
      ]
    },
    {
      "cell_type": "code",
      "execution_count": null,
      "metadata": {
        "ExecuteTime": {
          "end_time": "2019-02-15T00:45:21.718246Z",
          "start_time": "2019-02-15T00:45:21.713556Z"
        },
        "colab": {
          "base_uri": "https://localhost:8080/"
        },
        "id": "80wt02UeK_vX",
        "outputId": "1de49847-675d-4d38-e522-a81352316220"
      },
      "outputs": [],
      "source": [
        "a = np.array([1, 2, 3])\n",
        "a"
      ]
    },
    {
      "cell_type": "code",
      "execution_count": null,
      "metadata": {
        "ExecuteTime": {
          "end_time": "2019-02-15T00:45:22.668288Z",
          "start_time": "2019-02-15T00:45:22.663816Z"
        },
        "colab": {
          "base_uri": "https://localhost:8080/"
        },
        "id": "p-y18HF6K_vX",
        "outputId": "85c0709c-cc8e-4167-d6bf-cf9f5201166a"
      },
      "outputs": [],
      "source": [
        "b = np.array([3, 4, 5])\n",
        "b"
      ]
    },
    {
      "cell_type": "code",
      "execution_count": null,
      "metadata": {
        "ExecuteTime": {
          "end_time": "2019-02-15T00:45:24.797613Z",
          "start_time": "2019-02-15T00:45:24.793373Z"
        },
        "colab": {
          "base_uri": "https://localhost:8080/"
        },
        "id": "rYeTeD8lK_vY",
        "outputId": "d2e08d0c-d0e3-43f4-d5c9-8c850f8e4007"
      },
      "outputs": [],
      "source": [
        "a + b"
      ]
    },
    {
      "cell_type": "code",
      "execution_count": null,
      "metadata": {
        "ExecuteTime": {
          "end_time": "2019-02-15T00:45:27.657747Z",
          "start_time": "2019-02-15T00:45:27.653401Z"
        },
        "colab": {
          "base_uri": "https://localhost:8080/"
        },
        "id": "HRHVoMTRK_vY",
        "outputId": "cbf606cf-7873-476c-9707-aa78c08bc08f"
      },
      "outputs": [],
      "source": [
        "a * b"
      ]
    },
    {
      "cell_type": "markdown",
      "metadata": {
        "id": "7l2UyYC2K_vY"
      },
      "source": [
        "* No loops, basically\n",
        "* Highly efficient"
      ]
    },
    {
      "cell_type": "code",
      "execution_count": null,
      "metadata": {
        "ExecuteTime": {
          "end_time": "2019-02-15T00:45:32.591137Z",
          "start_time": "2019-02-15T00:45:32.585375Z"
        },
        "colab": {
          "base_uri": "https://localhost:8080/"
        },
        "id": "oV2smkMtK_vY",
        "outputId": "3e31d798-b759-4713-f28c-6ac90fc08dca"
      },
      "outputs": [],
      "source": [
        "a = np.random.normal(size=(4, 5))\n",
        "a"
      ]
    },
    {
      "cell_type": "markdown",
      "metadata": {
        "id": "P8ZqEcLZK_vZ"
      },
      "source": [
        "Multidimensional"
      ]
    },
    {
      "cell_type": "code",
      "execution_count": null,
      "metadata": {
        "ExecuteTime": {
          "end_time": "2019-02-15T00:45:34.727605Z",
          "start_time": "2019-02-15T00:45:34.722689Z"
        },
        "colab": {
          "base_uri": "https://localhost:8080/"
        },
        "id": "A78WBSnGK_vZ",
        "outputId": "8b15dc7e-d4be-47bf-ee10-de0826063ac7"
      },
      "outputs": [],
      "source": [
        "a * 10"
      ]
    },
    {
      "cell_type": "code",
      "execution_count": null,
      "metadata": {
        "ExecuteTime": {
          "end_time": "2019-02-15T00:45:36.456682Z",
          "start_time": "2019-02-15T00:45:36.452559Z"
        },
        "colab": {
          "base_uri": "https://localhost:8080/"
        },
        "id": "-DRMLjX1K_vZ",
        "outputId": "8a45c619-c4d2-4c3b-a2fd-c9a3fe9340c5"
      },
      "outputs": [],
      "source": [
        "a.shape"
      ]
    },
    {
      "cell_type": "markdown",
      "metadata": {
        "id": "uKpZ-ak-K_va"
      },
      "source": [
        "* Homework: Findout about broadcasting"
      ]
    },
    {
      "cell_type": "markdown",
      "metadata": {
        "id": "W833mveIK_va"
      },
      "source": [
        "# Linear model - caz sintetic"
      ]
    },
    {
      "cell_type": "markdown",
      "metadata": {
        "id": "qdFErtM6K_va"
      },
      "source": [
        "Sa presupunem ca vrem sa modelam evolutia preturilor caselor din Alba-Iulia.\n",
        "\n",
        "Stim ca exista o corelatie intre pretul unei locuinte si suprafata unui apartament in mp.  \n",
        "Presupunem de asemenea ca aceasta corelatie respecta o crestere lineara."
      ]
    },
    {
      "cell_type": "markdown",
      "metadata": {
        "id": "HpLFYyyvK_va"
      },
      "source": [
        "We assume the function to be deduced is\n",
        "\n",
        "$$y = x * 0.1 + 0.3$$\n"
      ]
    },
    {
      "cell_type": "code",
      "execution_count": null,
      "metadata": {
        "ExecuteTime": {
          "end_time": "2019-02-15T18:53:00.847258Z",
          "start_time": "2019-02-15T18:53:00.835975Z"
        },
        "colab": {
          "base_uri": "https://localhost:8080/"
        },
        "id": "a0Uoa0JTK_vb",
        "outputId": "79cb3edb-a719-438e-a454-854c78ebb04c"
      },
      "outputs": [],
      "source": [
        "# Generate some random data\n",
        "x_data = np.random.rand(100).astype(np.float32)\n",
        "x_data"
      ]
    },
    {
      "cell_type": "markdown",
      "metadata": {
        "id": "pKFf5oojK_vb"
      },
      "source": [
        "Generate on the above function, and the previous random values, y_data"
      ]
    },
    {
      "cell_type": "code",
      "execution_count": 41,
      "metadata": {
        "ExecuteTime": {
          "end_time": "2019-02-15T18:53:12.752272Z",
          "start_time": "2019-02-15T18:53:12.748820Z"
        },
        "id": "Z5eZurGWK_vb"
      },
      "outputs": [],
      "source": [
        "y_data = x_data * 0.1 + 0.3"
      ]
    },
    {
      "cell_type": "markdown",
      "metadata": {
        "id": "3nrPvufhK_vc"
      },
      "source": [
        "Our goal, is, given only some (fuzzy) data points, to find the line that best describes the data"
      ]
    },
    {
      "cell_type": "code",
      "execution_count": null,
      "metadata": {
        "ExecuteTime": {
          "end_time": "2019-02-15T18:53:20.997549Z",
          "start_time": "2019-02-15T18:53:20.991794Z"
        },
        "colab": {
          "base_uri": "https://localhost:8080/"
        },
        "id": "DPCIBcQ6K_vc",
        "outputId": "5d520264-73ba-4c57-e75f-335e6a2f8bbf"
      },
      "outputs": [],
      "source": [
        "noise = np.random.normal(scale=0.01, size=(100,))\n",
        "noise.shape"
      ]
    },
    {
      "cell_type": "code",
      "execution_count": null,
      "metadata": {
        "ExecuteTime": {
          "end_time": "2019-02-15T18:53:32.550075Z",
          "start_time": "2019-02-15T18:53:32.192685Z"
        },
        "colab": {
          "base_uri": "https://localhost:8080/",
          "height": 252
        },
        "id": "jZyBYikIK_vc",
        "outputId": "9e6f1e42-2eaa-4137-fd09-cb28126a0e76"
      },
      "outputs": [],
      "source": [
        "def chart(x, y):\n",
        "    \"\"\"\n",
        "    This only prints a simple chart\n",
        "    \"\"\"\n",
        "    %matplotlib inline\n",
        "    from matplotlib import pyplot as plt\n",
        "    # Plot outputs\n",
        "    plt.ylabel(\"Pretul casei\")\n",
        "    plt.scatter(x, y,  color='black')\n",
        "    plt.xticks(())\n",
        "    plt.yticks(())\n",
        "    plt.show()\n",
        "\n",
        "chart(x_data, y_data + noise)"
      ]
    },
    {
      "cell_type": "markdown",
      "metadata": {
        "id": "0BjJ57xnK_vd"
      },
      "source": [
        "Telul nostru este ca din datele pe care le avem sa descoperim cele doua variable (a, b) == (0.1, 0.3) care definesc cea linia cea mai representativa"
      ]
    },
    {
      "cell_type": "markdown",
      "metadata": {
        "id": "bqRdz-EPK_vd"
      },
      "source": [
        "Sa presupunem ca avem o astfel de linie (stim a, b), cum putem sti cat de bine se potriveste ea cu datele?"
      ]
    },
    {
      "cell_type": "markdown",
      "metadata": {
        "id": "NQcvumTEK_vd"
      },
      "source": [
        "$$y.predicted_i = a * x_i + b$$\n",
        "\n",
        "$$ \\mathcal{L}(y,x,a, b) = \\dfrac{1}{M} \\sum_{i=1}^{M} \\sqrt{(y.true_i - y.predicted_i)^2}$$"
      ]
    },
    {
      "cell_type": "code",
      "execution_count": null,
      "metadata": {
        "ExecuteTime": {
          "end_time": "2019-02-15T00:45:57.801189Z",
          "start_time": "2019-02-15T00:45:57.794407Z"
        },
        "id": "W2fO3NYdK_vd"
      },
      "outputs": [],
      "source": [
        "def gradient(a, b, x, y):\n",
        "    y_predicted = x * a + b\n",
        "    error = (y - y_predicted)\n",
        "    a_ = -(1.0/len(x)) * 2 * np.sum(error * x)\n",
        "    b_ = -(1.0/len(x)) * 2 * np.sum(error)\n",
        "    return a_, b_"
      ]
    },
    {
      "cell_type": "markdown",
      "metadata": {
        "id": "cDIIvEMUK_ve"
      },
      "source": [
        "alpha is learning rate"
      ]
    },
    {
      "cell_type": "code",
      "execution_count": null,
      "metadata": {
        "ExecuteTime": {
          "end_time": "2019-02-15T00:45:59.991537Z",
          "start_time": "2019-02-15T00:45:59.983168Z"
        },
        "colab": {
          "base_uri": "https://localhost:8080/"
        },
        "id": "YA_zwOBNK_ve",
        "outputId": "8ae730dc-2665-4304-ca4d-d6b5f8c46e6c"
      },
      "outputs": [],
      "source": [
        "a, b = np.random.randn(2)\n",
        "\n",
        "alpha = 0.5\n",
        "for i in range(100):\n",
        "    (a_, b_) = gradient(a, b, x_data, y_data)\n",
        "    a = a - alpha * a_\n",
        "    b = b - alpha * b_\n",
        "print(a, b)"
      ]
    },
    {
      "cell_type": "code",
      "execution_count": null,
      "metadata": {
        "ExecuteTime": {
          "end_time": "2019-02-15T00:46:26.041451Z",
          "start_time": "2019-02-15T00:46:25.953884Z"
        },
        "colab": {
          "base_uri": "https://localhost:8080/",
          "height": 252
        },
        "id": "MbFYyhztK_ve",
        "outputId": "584804d9-cf1c-42be-f148-e601b627b350"
      },
      "outputs": [],
      "source": [
        "def final_plot(x, y, a, b):\n",
        "    %matplotlib inline\n",
        "    from matplotlib import pyplot as plt\n",
        "\n",
        "    # Plot outputs\n",
        "    plt.ylabel(\"Pretul casei\")\n",
        "    plt.scatter(x, y,  color='black')\n",
        "    plt.xticks(())\n",
        "    plt.yticks(())\n",
        "    plt.plot([0, -b/a], [b, 0])\n",
        "    plt.show()\n",
        "\n",
        "final_plot(x_data, y_data + noise, a, b)"
      ]
    },
    {
      "cell_type": "markdown",
      "metadata": {
        "id": "WIIqIUc2K_vf"
      },
      "source": [
        "# Teme pentru acasa"
      ]
    },
    {
      "cell_type": "markdown",
      "metadata": {
        "id": "yrs8cBLWK_vg"
      },
      "source": [
        "## Cititi sectiunile despre Python, Numpy !!"
      ]
    },
    {
      "cell_type": "markdown",
      "metadata": {
        "id": "JWq6LrprK_vg"
      },
      "source": [
        "## Creati o copie a acestui laborator si asigurati-va ca toate comenzile functioneaza si intelegeti ce fac."
      ]
    },
    {
      "cell_type": "markdown",
      "metadata": {
        "id": "6gZEwCEgK_vg"
      },
      "source": [
        "## Scrieti o clasa Python `Point` pentru reprezentarea unui punct 3D."
      ]
    },
    {
      "cell_type": "markdown",
      "metadata": {
        "id": "G-EnVvObK_vh"
      },
      "source": [
        "* scrieti metode pentru\n",
        "    * calcularea distantei (euclidiene) pana la alt punct dat\n",
        "    * afisarea punctului (un echivalent to_string)\n",
        "* avand un punct, printati pe rand, valoarea x, y si z a sa"
      ]
    },
    {
      "cell_type": "code",
      "execution_count": 70,
      "metadata": {},
      "outputs": [
        {
          "name": "stdout",
          "output_type": "stream",
          "text": [
            "(1, 2, 3)\n",
            "(4, 5, 6)\n",
            "5.196152422706632\n"
          ]
        }
      ],
      "source": [
        "# distanta eculidiană\n",
        "class Point:\n",
        "    def __init__(self, x, y, z):\n",
        "        self.x = x\n",
        "        self.y = y\n",
        "        self.z = z\n",
        "\n",
        "    def distance(self, other):\n",
        "        return np.sqrt((self.x - other.x)**2 + (self.y - other.y)**2 + (self.z - other.z)**2)\n",
        "    \n",
        "    def to_string(self):\n",
        "        return \"({}, {}, {})\".format(self.x, self.y, self.z)\n",
        "\n",
        "p1 = Point(1, 2, 3)\n",
        "p2 = Point(4, 5, 6)\n",
        "print(p1.to_string())\n",
        "print(p2.to_string())\n",
        "print(p1.distance(p2))"
      ]
    },
    {
      "cell_type": "markdown",
      "metadata": {
        "id": "U-h34g9-K_vh"
      },
      "source": [
        "## Rezolvati cu o singura comanda urmatoarele probleme de Numpy"
      ]
    },
    {
      "cell_type": "markdown",
      "metadata": {
        "id": "LPlYm48uK_vh"
      },
      "source": [
        "* Importati numpy (ca np) si printati versiunea\n",
        "* Creati un array unidimensional cu numere de la 1 la 10\n",
        "* Creati un array 3x3 cu toate valorile True\n",
        "* Printati toate elementele pare dintr-un array\n",
        "* Inlocuiti elementele de pe pozitiile pare dintr-un array cu valoarea -1\n",
        "* Redimensionati un array de dimensiune 100 intr-unul (50, 2)"
      ]
    },
    {
      "cell_type": "code",
      "execution_count": 79,
      "metadata": {},
      "outputs": [
        {
          "name": "stdout",
          "output_type": "stream",
          "text": [
            "<module 'numpy' from '/Users/mihai/faculta/IA/projects/ia-lab3/env/lib/python3.13/site-packages/numpy/__init__.py'>\n"
          ]
        },
        {
          "data": {
            "text/plain": [
              "array([10,  3,  6,  7,  3,  9,  5,  9,  9,  4])"
            ]
          },
          "execution_count": 79,
          "metadata": {},
          "output_type": "execute_result"
        }
      ],
      "source": [
        "import numpy as np; print(np)\n"
      ]
    },
    {
      "cell_type": "code",
      "execution_count": 88,
      "metadata": {},
      "outputs": [
        {
          "name": "stdout",
          "output_type": "stream",
          "text": [
            "[ 1  2  3  4  5  6  7  8  9 10]\n"
          ]
        }
      ],
      "source": [
        "print(np.arange(1, 11))\n"
      ]
    },
    {
      "cell_type": "code",
      "execution_count": 89,
      "metadata": {},
      "outputs": [
        {
          "name": "stdout",
          "output_type": "stream",
          "text": [
            "[[ True  True  True]\n",
            " [ True  True  True]\n",
            " [ True  True  True]]\n"
          ]
        }
      ],
      "source": [
        "print(np.full((3, 3), True))"
      ]
    },
    {
      "cell_type": "code",
      "execution_count": 85,
      "metadata": {},
      "outputs": [
        {
          "name": "stdout",
          "output_type": "stream",
          "text": [
            "[85 38 91 20 11 76 89 80 10 22 95 98 64 89  1 24 80 44 32 61]\n",
            "[38 20 76 80 10 22 98 64 24 80 44 32]\n"
          ]
        }
      ],
      "source": [
        "random_array = np.random.randint(1, 100, size=20)\n",
        "even_numbers = random_array[random_array % 2 == 0]\n",
        "print(random_array)\n",
        "print(even_numbers)\n"
      ]
    },
    {
      "cell_type": "code",
      "execution_count": 90,
      "metadata": {},
      "outputs": [
        {
          "name": "stdout",
          "output_type": "stream",
          "text": [
            "[-1 38 -1 20 -1 76 -1 80 -1 22 -1 98 -1 89 -1 24 -1 44 -1 61]\n"
          ]
        }
      ],
      "source": [
        "random_array[::2] = -1\n",
        "print(random_array)"
      ]
    },
    {
      "cell_type": "code",
      "execution_count": 91,
      "metadata": {},
      "outputs": [
        {
          "name": "stdout",
          "output_type": "stream",
          "text": [
            "[[ 0  1]\n",
            " [ 2  3]\n",
            " [ 4  5]\n",
            " [ 6  7]\n",
            " [ 8  9]\n",
            " [10 11]\n",
            " [12 13]\n",
            " [14 15]\n",
            " [16 17]\n",
            " [18 19]\n",
            " [20 21]\n",
            " [22 23]\n",
            " [24 25]\n",
            " [26 27]\n",
            " [28 29]\n",
            " [30 31]\n",
            " [32 33]\n",
            " [34 35]\n",
            " [36 37]\n",
            " [38 39]\n",
            " [40 41]\n",
            " [42 43]\n",
            " [44 45]\n",
            " [46 47]\n",
            " [48 49]\n",
            " [50 51]\n",
            " [52 53]\n",
            " [54 55]\n",
            " [56 57]\n",
            " [58 59]\n",
            " [60 61]\n",
            " [62 63]\n",
            " [64 65]\n",
            " [66 67]\n",
            " [68 69]\n",
            " [70 71]\n",
            " [72 73]\n",
            " [74 75]\n",
            " [76 77]\n",
            " [78 79]\n",
            " [80 81]\n",
            " [82 83]\n",
            " [84 85]\n",
            " [86 87]\n",
            " [88 89]\n",
            " [90 91]\n",
            " [92 93]\n",
            " [94 95]\n",
            " [96 97]\n",
            " [98 99]]\n"
          ]
        }
      ],
      "source": [
        "array_100 = np.arange(100)\n",
        "reshaped_array = array_100.reshape((50, 2))\n",
        "print(reshaped_array)"
      ]
    },
    {
      "cell_type": "markdown",
      "metadata": {
        "id": "XNcHhlNbK_vh"
      },
      "source": [
        "## Ce reprezinta numpy broadcasting, dati exemple"
      ]
    },
    {
      "cell_type": "markdown",
      "metadata": {},
      "source": [
        "este o metodă care permite operațiilor pe array-uri de dimensiuni diferite să fie efectuate fără a necesita duplicarea datelor. Broadcasting-ul extinde automat array-urile mai mici pentru a se potrivi cu dimensiunile array-urilor mai mari, astfel încât operațiile să poată fi efectuate eficient."
      ]
    },
    {
      "cell_type": "markdown",
      "metadata": {},
      "source": [
        "### Exemplu 1: Adunarea unui scalar la un array\n"
      ]
    },
    {
      "cell_type": "code",
      "execution_count": null,
      "metadata": {},
      "outputs": [],
      "source": [
        "a = np.array([1, 2, 3])\n",
        "b = 2\n",
        "result = a + b"
      ]
    },
    {
      "cell_type": "markdown",
      "metadata": {},
      "source": [
        "### Exemplu 2: Adunarea unui vector la un array 2D\n"
      ]
    },
    {
      "cell_type": "code",
      "execution_count": 92,
      "metadata": {},
      "outputs": [
        {
          "name": "stdout",
          "output_type": "stream",
          "text": [
            "[[2 4 6]\n",
            " [5 7 9]]\n"
          ]
        }
      ],
      "source": [
        "\n",
        "a = np.array([[1, 2, 3], [4, 5, 6]])\n",
        "b = np.array([1, 2, 3])\n",
        "result = a + b\n",
        "print(result)"
      ]
    },
    {
      "cell_type": "markdown",
      "metadata": {
        "id": "0OfMTHExK_vi"
      },
      "source": [
        "# Resurse"
      ]
    },
    {
      "cell_type": "markdown",
      "metadata": {
        "id": "v1DEwt9vK_vi"
      },
      "source": [
        "[Jupyter Notbook tutorial](https://www.datacamp.com/community/tutorials/tutorial-jupyter-notebook)  \n",
        "[Python tutorial](https://www.stavros.io/tutorials/python/)  \n",
        "[Tutorial numpy](https://cs231n.github.io/python-numpy-tutorial/)  \n",
        "\n"
      ]
    }
  ],
  "metadata": {
    "colab": {
      "collapsed_sections": [
        "yrs8cBLWK_vg",
        "JWq6LrprK_vg",
        "XNcHhlNbK_vh"
      ],
      "provenance": []
    },
    "kernelspec": {
      "display_name": "Python 3",
      "language": "python",
      "name": "python3"
    },
    "language_info": {
      "codemirror_mode": {
        "name": "ipython",
        "version": 3
      },
      "file_extension": ".py",
      "mimetype": "text/x-python",
      "name": "python",
      "nbconvert_exporter": "python",
      "pygments_lexer": "ipython3",
      "version": "3.13.0"
    },
    "latex_envs": {
      "LaTeX_envs_menu_present": true,
      "autocomplete": true,
      "bibliofile": "biblio.bib",
      "cite_by": "apalike",
      "current_citInitial": 1,
      "eqLabelWithNumbers": true,
      "eqNumInitial": 1,
      "hotkeys": {
        "equation": "Ctrl-E",
        "itemize": "Ctrl-I"
      },
      "labels_anchors": false,
      "latex_user_defs": false,
      "report_style_numbering": false,
      "user_envs_cfg": false
    },
    "toc": {
      "base_numbering": 1,
      "nav_menu": {},
      "number_sections": true,
      "sideBar": true,
      "skip_h1_title": false,
      "title_cell": "Agenda",
      "title_sidebar": "Contents",
      "toc_cell": true,
      "toc_position": {
        "height": "calc(100% - 180px)",
        "left": "10px",
        "top": "150px",
        "width": "190px"
      },
      "toc_section_display": true,
      "toc_window_display": true
    },
    "varInspector": {
      "cols": {
        "lenName": 16,
        "lenType": 16,
        "lenVar": 40
      },
      "kernels_config": {
        "python": {
          "delete_cmd_postfix": "",
          "delete_cmd_prefix": "del ",
          "library": "var_list.py",
          "varRefreshCmd": "print(var_dic_list())"
        },
        "r": {
          "delete_cmd_postfix": ") ",
          "delete_cmd_prefix": "rm(",
          "library": "var_list.r",
          "varRefreshCmd": "cat(var_dic_list()) "
        }
      },
      "position": {
        "height": "235px",
        "left": "773px",
        "right": "20px",
        "top": "140px",
        "width": "350px"
      },
      "types_to_exclude": [
        "module",
        "function",
        "builtin_function_or_method",
        "instance",
        "_Feature"
      ],
      "window_display": false
    }
  },
  "nbformat": 4,
  "nbformat_minor": 0
}
